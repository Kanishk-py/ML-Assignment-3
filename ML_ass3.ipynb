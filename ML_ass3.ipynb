{
  "cells": [
    {
      "cell_type": "code",
      "execution_count": 3,
      "metadata": {
        "id": "tJ7A9Zm5OISU"
      },
      "outputs": [],
      "source": [
        "import matplotlib.pyplot as plt\n",
        "import numpy as np\n",
        "import pandas as pd\n",
        "import os"
      ]
    },
    {
      "cell_type": "code",
      "execution_count": 10,
      "metadata": {
        "id": "LIyy9ebHPoAb"
      },
      "outputs": [],
      "source": [
        "from keras.utils import load_img, img_to_array\n",
        "from keras.preprocessing.image import ImageDataGenerator\n",
        "from keras.layers import Dense,Input,Dropout,GlobalAveragePooling2D,Flatten,Conv2D,BatchNormalization,Activation,MaxPooling2D\n",
        "from keras.models import Model,Sequential\n",
        "from keras.optimizers import Adam,SGD,RMSprop"
      ]
    },
    {
      "cell_type": "code",
      "execution_count": null,
      "metadata": {
        "colab": {
          "base_uri": "https://localhost:8080/",
          "height": 555
        },
        "id": "VuZG8ox1PqK7",
        "outputId": "81781dcc-2216-4143-e192-1b6beaf41ec1"
      },
      "outputs": [],
      "source": [
        "img_size = (48, 48)\n",
        "folder_path = \"images/\"\n",
        "\n",
        "expression = 'happy'\n",
        "\n",
        "plt.figure(figsize= (12,12))\n",
        "for i in range(1, 10, 1):\n",
        "    plt.subplot(3,3,i)\n",
        "    img = load_img(folder_path+\"train/\"+expression+\"/\"+os.listdir(folder_path + \"train/\" + expression)[i], target_size=img_size)\n",
        "    plt.imshow(img)   \n",
        "plt.show()"
      ]
    },
    {
      "cell_type": "code",
      "execution_count": 11,
      "metadata": {
        "colab": {
          "base_uri": "https://localhost:8080/",
          "height": 398
        },
        "id": "i9u7V0NfRPVY",
        "outputId": "09a2972f-1c2f-4eac-bb83-c75cf3d36985"
      },
      "outputs": [
        {
          "name": "stdout",
          "output_type": "stream",
          "text": [
            "Found 28821 images belonging to 7 classes.\n",
            "Found 7066 images belonging to 7 classes.\n"
          ]
        }
      ],
      "source": [
        "batch_size=128\n",
        "\n",
        "datagen_train = ImageDataGenerator(1./255)\n",
        "datagen_validation = ImageDataGenerator(1./255)\n",
        "\n",
        "train_set= datagen_train.flow_from_directory(\n",
        "    \"images/train\",\n",
        "    class_mode=\"categorical\",\n",
        "    target_size=img_size,\n",
        "    color_mode=\"grayscale\",\n",
        "    batch_size=batch_size,\n",
        "    shuffle=True\n",
        ")\n",
        "\n",
        "test_set= datagen_validation.flow_from_directory(\n",
        "    \"images/validation\",\n",
        "    class_mode=\"categorical\",\n",
        "    target_size=img_size,\n",
        "    color_mode=\"grayscale\",\n",
        "    batch_size=batch_size,\n",
        "    shuffle=False\n",
        ")"
      ]
    },
    {
      "cell_type": "code",
      "execution_count": 7,
      "metadata": {
        "id": "8fFY9zwDPxuC"
      },
      "outputs": [
        {
          "name": "stdout",
          "output_type": "stream",
          "text": [
            "Model: \"sequential\"\n",
            "_________________________________________________________________\n",
            " Layer (type)                Output Shape              Param #   \n",
            "=================================================================\n",
            " conv2d (Conv2D)             (None, 48, 48, 64)        640       \n",
            "                                                                 \n",
            " batch_normalization (BatchN  (None, 48, 48, 64)       256       \n",
            " ormalization)                                                   \n",
            "                                                                 \n",
            " activation (Activation)     (None, 48, 48, 64)        0         \n",
            "                                                                 \n",
            " max_pooling2d (MaxPooling2D  (None, 24, 24, 64)       0         \n",
            " )                                                               \n",
            "                                                                 \n",
            " dropout (Dropout)           (None, 24, 24, 64)        0         \n",
            "                                                                 \n",
            " conv2d_1 (Conv2D)           (None, 24, 24, 128)       204928    \n",
            "                                                                 \n",
            " batch_normalization_1 (Batc  (None, 24, 24, 128)      512       \n",
            " hNormalization)                                                 \n",
            "                                                                 \n",
            " activation_1 (Activation)   (None, 24, 24, 128)       0         \n",
            "                                                                 \n",
            " max_pooling2d_1 (MaxPooling  (None, 12, 12, 128)      0         \n",
            " 2D)                                                             \n",
            "                                                                 \n",
            " dropout_1 (Dropout)         (None, 12, 12, 128)       0         \n",
            "                                                                 \n",
            " conv2d_2 (Conv2D)           (None, 12, 12, 512)       590336    \n",
            "                                                                 \n",
            " batch_normalization_2 (Batc  (None, 12, 12, 512)      2048      \n",
            " hNormalization)                                                 \n",
            "                                                                 \n",
            " activation_2 (Activation)   (None, 12, 12, 512)       0         \n",
            "                                                                 \n",
            " max_pooling2d_2 (MaxPooling  (None, 6, 6, 512)        0         \n",
            " 2D)                                                             \n",
            "                                                                 \n",
            " dropout_2 (Dropout)         (None, 6, 6, 512)         0         \n",
            "                                                                 \n",
            " conv2d_3 (Conv2D)           (None, 6, 6, 512)         2359808   \n",
            "                                                                 \n",
            " batch_normalization_3 (Batc  (None, 6, 6, 512)        2048      \n",
            " hNormalization)                                                 \n",
            "                                                                 \n",
            " activation_3 (Activation)   (None, 6, 6, 512)         0         \n",
            "                                                                 \n",
            " max_pooling2d_3 (MaxPooling  (None, 3, 3, 512)        0         \n",
            " 2D)                                                             \n",
            "                                                                 \n",
            " dropout_3 (Dropout)         (None, 3, 3, 512)         0         \n",
            "                                                                 \n",
            " flatten (Flatten)           (None, 4608)              0         \n",
            "                                                                 \n",
            " dense (Dense)               (None, 256)               1179904   \n",
            "                                                                 \n",
            " batch_normalization_4 (Batc  (None, 256)              1024      \n",
            " hNormalization)                                                 \n",
            "                                                                 \n",
            " activation_4 (Activation)   (None, 256)               0         \n",
            "                                                                 \n",
            " dropout_4 (Dropout)         (None, 256)               0         \n",
            "                                                                 \n",
            " dense_1 (Dense)             (None, 512)               131584    \n",
            "                                                                 \n",
            " batch_normalization_5 (Batc  (None, 512)              2048      \n",
            " hNormalization)                                                 \n",
            "                                                                 \n",
            " activation_5 (Activation)   (None, 512)               0         \n",
            "                                                                 \n",
            " dropout_5 (Dropout)         (None, 512)               0         \n",
            "                                                                 \n",
            " dense_2 (Dense)             (None, 7)                 3591      \n",
            "                                                                 \n",
            "=================================================================\n",
            "Total params: 4,478,727\n",
            "Trainable params: 4,474,759\n",
            "Non-trainable params: 3,968\n",
            "_________________________________________________________________\n"
          ]
        },
        {
          "name": "stderr",
          "output_type": "stream",
          "text": [
            "c:\\Users\\KANISHK\\miniconda3\\envs\\tf\\lib\\site-packages\\keras\\optimizers\\optimizer_v2\\adam.py:114: UserWarning: The `lr` argument is deprecated, use `learning_rate` instead.\n",
            "  super().__init__(name, **kwargs)\n"
          ]
        }
      ],
      "source": [
        "no_of_classes=7\n",
        "\n",
        "model = Sequential()\n",
        "\n",
        "#1st CNN layer\n",
        "model.add(Conv2D(64,(3,3),padding=\"same\",input_shape=(48,48,1)))\n",
        "model.add(BatchNormalization())\n",
        "model.add(Activation(\"relu\"))\n",
        "model.add(MaxPooling2D(pool_size=(2,2)))\n",
        "model.add(Dropout(0.25))\n",
        "\n",
        "#2nd CNN layer\n",
        "model.add(Conv2D(128,(5,5),padding=\"same\"))\n",
        "model.add(BatchNormalization())\n",
        "model.add(Activation(\"relu\"))\n",
        "model.add(MaxPooling2D(pool_size=(2,2)))\n",
        "model.add(Dropout(0.25))\n",
        "\n",
        "#3rd CNN layer\n",
        "model.add(Conv2D(512,(3,3),padding=\"same\"))\n",
        "model.add(BatchNormalization())\n",
        "model.add(Activation(\"relu\"))\n",
        "model.add(MaxPooling2D(pool_size=(2,2)))\n",
        "model.add(Dropout(0.25))\n",
        "\n",
        "#4th CNN layer\n",
        "model.add(Conv2D(512,(3,3), padding='same'))\n",
        "model.add(BatchNormalization())\n",
        "model.add(Activation('relu'))\n",
        "model.add(MaxPooling2D(pool_size=(2, 2)))\n",
        "model.add(Dropout(0.25))\n",
        "\n",
        "model.add(Flatten())\n",
        "\n",
        "#Fully connected 1st layer\n",
        "model.add(Dense(256))\n",
        "model.add(BatchNormalization())\n",
        "model.add(Activation('relu'))\n",
        "model.add(Dropout(0.25))\n",
        "\n",
        "# Fully connected layer 2nd layer\n",
        "model.add(Dense(512))\n",
        "model.add(BatchNormalization())\n",
        "model.add(Activation('relu'))\n",
        "model.add(Dropout(0.25))\n",
        "\n",
        "model.add(Dense(no_of_classes, activation=\"softmax\"))\n",
        "\n",
        "model.compile(optimizer=Adam(lr = 0.0001), loss='categorical_crossentropy', metrics=['accuracy'])\n",
        "model.summary()"
      ]
    },
    {
      "cell_type": "code",
      "execution_count": 31,
      "metadata": {},
      "outputs": [],
      "source": [
        "model.save(\"./fer_model.h5\")"
      ]
    },
    {
      "cell_type": "code",
      "execution_count": 12,
      "metadata": {
        "colab": {
          "base_uri": "https://localhost:8080/"
        },
        "id": "Mee-joGZRA6J",
        "outputId": "1e8d099f-2c3e-4b96-f2fd-6b0f591a5d56"
      },
      "outputs": [
        {
          "name": "stderr",
          "output_type": "stream",
          "text": [
            "c:\\Users\\KANISHK\\miniconda3\\envs\\tf\\lib\\site-packages\\keras\\preprocessing\\image.py:1863: UserWarning: This ImageDataGenerator specifies `featurewise_center`, but it hasn't been fit on any training data. Fit it first by calling `.fit(numpy_data)`.\n",
            "  warnings.warn(\n"
          ]
        },
        {
          "name": "stdout",
          "output_type": "stream",
          "text": [
            "Epoch 1/15\n",
            "225/225 [==============================] - ETA: 0s - loss: 1.7874 - accuracy: 0.3077WARNING:tensorflow:Can save best model only with val_acc available, skipping.\n",
            "225/225 [==============================] - 62s 268ms/step - loss: 1.7874 - accuracy: 0.3077 - val_loss: 1.6206 - val_accuracy: 0.3771 - lr: 0.0010\n",
            "Epoch 2/15\n",
            "225/225 [==============================] - ETA: 0s - loss: 1.4479 - accuracy: 0.4414WARNING:tensorflow:Can save best model only with val_acc available, skipping.\n",
            "225/225 [==============================] - 53s 236ms/step - loss: 1.4479 - accuracy: 0.4414 - val_loss: 1.5457 - val_accuracy: 0.4339 - lr: 0.0010\n",
            "Epoch 3/15\n",
            "225/225 [==============================] - ETA: 0s - loss: 1.2869 - accuracy: 0.5080WARNING:tensorflow:Can save best model only with val_acc available, skipping.\n",
            "225/225 [==============================] - 62s 277ms/step - loss: 1.2869 - accuracy: 0.5080 - val_loss: 1.4287 - val_accuracy: 0.4688 - lr: 0.0010\n",
            "Epoch 4/15\n",
            "225/225 [==============================] - ETA: 0s - loss: 1.1991 - accuracy: 0.5388WARNING:tensorflow:Can save best model only with val_acc available, skipping.\n",
            "225/225 [==============================] - 54s 240ms/step - loss: 1.1991 - accuracy: 0.5388 - val_loss: 1.2336 - val_accuracy: 0.5286 - lr: 0.0010\n",
            "Epoch 5/15\n",
            "225/225 [==============================] - ETA: 0s - loss: 1.1323 - accuracy: 0.5681WARNING:tensorflow:Can save best model only with val_acc available, skipping.\n",
            "225/225 [==============================] - 55s 244ms/step - loss: 1.1323 - accuracy: 0.5681 - val_loss: 1.2507 - val_accuracy: 0.5455 - lr: 0.0010\n",
            "Epoch 6/15\n",
            "225/225 [==============================] - ETA: 0s - loss: 1.0812 - accuracy: 0.5908WARNING:tensorflow:Can save best model only with val_acc available, skipping.\n",
            "225/225 [==============================] - 55s 243ms/step - loss: 1.0812 - accuracy: 0.5908 - val_loss: 1.1300 - val_accuracy: 0.5803 - lr: 0.0010\n",
            "Epoch 7/15\n",
            "225/225 [==============================] - ETA: 0s - loss: 1.0331 - accuracy: 0.6074WARNING:tensorflow:Can save best model only with val_acc available, skipping.\n",
            "225/225 [==============================] - 55s 242ms/step - loss: 1.0331 - accuracy: 0.6074 - val_loss: 1.1912 - val_accuracy: 0.5611 - lr: 0.0010\n",
            "Epoch 8/15\n",
            "225/225 [==============================] - ETA: 0s - loss: 0.9919 - accuracy: 0.6255WARNING:tensorflow:Can save best model only with val_acc available, skipping.\n",
            "225/225 [==============================] - 54s 241ms/step - loss: 0.9919 - accuracy: 0.6255 - val_loss: 1.1082 - val_accuracy: 0.5902 - lr: 0.0010\n",
            "Epoch 9/15\n",
            "225/225 [==============================] - ETA: 0s - loss: 0.9493 - accuracy: 0.6409WARNING:tensorflow:Can save best model only with val_acc available, skipping.\n",
            "225/225 [==============================] - 53s 235ms/step - loss: 0.9493 - accuracy: 0.6409 - val_loss: 1.1701 - val_accuracy: 0.5619 - lr: 0.0010\n",
            "Epoch 10/15\n",
            "225/225 [==============================] - ETA: 0s - loss: 0.9046 - accuracy: 0.6575WARNING:tensorflow:Can save best model only with val_acc available, skipping.\n",
            "225/225 [==============================] - 52s 231ms/step - loss: 0.9046 - accuracy: 0.6575 - val_loss: 1.0800 - val_accuracy: 0.5980 - lr: 0.0010\n",
            "Epoch 11/15\n",
            "225/225 [==============================] - ETA: 0s - loss: 0.8681 - accuracy: 0.6742WARNING:tensorflow:Can save best model only with val_acc available, skipping.\n",
            "225/225 [==============================] - 53s 234ms/step - loss: 0.8681 - accuracy: 0.6742 - val_loss: 1.0478 - val_accuracy: 0.6072 - lr: 0.0010\n",
            "Epoch 12/15\n",
            "225/225 [==============================] - ETA: 0s - loss: 0.8210 - accuracy: 0.6902WARNING:tensorflow:Can save best model only with val_acc available, skipping.\n",
            "225/225 [==============================] - 53s 234ms/step - loss: 0.8210 - accuracy: 0.6902 - val_loss: 1.0967 - val_accuracy: 0.6009 - lr: 0.0010\n",
            "Epoch 13/15\n",
            "225/225 [==============================] - ETA: 0s - loss: 0.7789 - accuracy: 0.7067WARNING:tensorflow:Can save best model only with val_acc available, skipping.\n",
            "225/225 [==============================] - 55s 243ms/step - loss: 0.7789 - accuracy: 0.7067 - val_loss: 1.2040 - val_accuracy: 0.5624 - lr: 0.0010\n",
            "Epoch 14/15\n",
            "225/225 [==============================] - ETA: 0s - loss: 0.7406 - accuracy: 0.7246Restoring model weights from the end of the best epoch: 11.\n",
            "WARNING:tensorflow:Can save best model only with val_acc available, skipping.\n",
            "\n",
            "Epoch 14: ReduceLROnPlateau reducing learning rate to 0.00020000000949949026.\n",
            "225/225 [==============================] - 55s 243ms/step - loss: 0.7406 - accuracy: 0.7246 - val_loss: 1.1833 - val_accuracy: 0.5733 - lr: 0.0010\n",
            "Epoch 14: early stopping\n"
          ]
        }
      ],
      "source": [
        "from keras.callbacks import ModelCheckpoint, EarlyStopping, ReduceLROnPlateau\n",
        "import tensorflow as tf\n",
        "\n",
        "# checkpoint = ModelCheckpoint(\"./model.h5\", monitor='val_acc', verbose=1, save_best_only=True, mode='max')\n",
        "\n",
        "early_stopping = EarlyStopping(monitor='val_loss', min_delta=0, patience=3, verbose=1, restore_best_weights=True)\n",
        "\n",
        "reduce_learning_rate = ReduceLROnPlateau(monitor='val_loss', factor=0.2, patience=3, verbose=1, min_delta=0.0001)\n",
        "\n",
        "epochs = 20\n",
        "\n",
        "model.compile(loss='categorical_crossentropy',\n",
        "              optimizer = Adam(learning_rate=0.001),\n",
        "              metrics=['accuracy'])\n",
        "\n",
        "\n",
        "with tf.device('/GPU:0'):\n",
        "    history = model.fit(train_set,\n",
        "                        steps_per_epoch=train_set.n//train_set.batch_size,\n",
        "                        epochs=epochs,\n",
        "                        validation_data = test_set,\n",
        "                        validation_steps = test_set.n//test_set.batch_size,\n",
        "                        callbacks=[early_stopping, reduce_learning_rate])"
      ]
    },
    {
      "cell_type": "code",
      "execution_count": 30,
      "metadata": {},
      "outputs": [],
      "source": [
        "model.save_weights(\"./face_emotion_model.h5\")"
      ]
    },
    {
      "cell_type": "code",
      "execution_count": 25,
      "metadata": {},
      "outputs": [
        {
          "name": "stdout",
          "output_type": "stream",
          "text": [
            "1/1 [==============================] - 0s 83ms/step\n",
            "happy\n"
          ]
        }
      ],
      "source": [
        "emotions = ['angry', 'disgust', 'fear', 'happy', 'neutral', 'sad', 'surprise']\n",
        "def predict_emotion(image):\n",
        "\treturn emotions[np.argmax(model.predict(np.asarray(image)))]\n"
      ]
    },
    {
      "cell_type": "code",
      "execution_count": 29,
      "metadata": {},
      "outputs": [
        {
          "name": "stdout",
          "output_type": "stream",
          "text": [
            "1/1 [==============================] - 0s 36ms/step\n",
            "happy\n"
          ]
        }
      ],
      "source": [
        "print(predict_emotion(np.array([img_to_array(load_img('images/train/happy/64.jpg', color_mode=\"grayscale\"))])))"
      ]
    }
  ],
  "metadata": {
    "accelerator": "GPU",
    "colab": {
      "provenance": []
    },
    "gpuClass": "standard",
    "kernelspec": {
      "display_name": "Python 3",
      "name": "python3"
    },
    "language_info": {
      "codemirror_mode": {
        "name": "ipython",
        "version": 3
      },
      "file_extension": ".py",
      "mimetype": "text/x-python",
      "name": "python",
      "nbconvert_exporter": "python",
      "pygments_lexer": "ipython3",
      "version": "3.9.16"
    }
  },
  "nbformat": 4,
  "nbformat_minor": 0
}
